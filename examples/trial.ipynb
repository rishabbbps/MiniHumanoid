{
 "cells": [
  {
   "cell_type": "code",
   "execution_count": 1,
   "id": "c79d5b1d",
   "metadata": {},
   "outputs": [
    {
     "name": "stdout",
     "output_type": "stream",
     "text": [
      "Attempting connection to /dev/ttyACM0 (try 1/3)...\n",
      "Successfully connected to serial port /dev/ttyACM0\n",
      "[DEBUG] set_target: Sent Pololu command for channel 0 to 6000\n",
      "[DEBUG] set_target: Sent Pololu command for channel 1 to 5000\n",
      "[DEBUG] set_target: Sent Pololu command for channel 0 to 7000\n",
      "[DEBUG] set_target: Sent Pololu command for channel 1 to 4000\n",
      "[DEBUG] set_target: Sent Pololu command for channel 0 to 6000\n",
      "[DEBUG] set_target: Sent Pololu command for channel 1 to 5000\n",
      "[DEBUG] set_target: Sent Pololu command for channel 2 to 5500\n",
      "[DEBUG] set_target: Sent Pololu command for channel 0 to 6500\n",
      "[DEBUG] set_target: Sent Pololu command for channel 1 to 4500\n",
      "[DEBUG] set_target: Sent Pololu command for channel 2 to 6000\n",
      "[DEBUG] set_target: Sent Pololu command for channel 0 to 6000\n",
      "[DEBUG] set_target: Sent Pololu command for channel 1 to 5000\n",
      "[DEBUG] set_target: Sent Pololu command for channel 2 to 5500\n",
      "Releasing all servos...\n",
      "[DEBUG] set_target: Sent Pololu command for channel 0 to 0\n",
      "[DEBUG] set_target: Sent Pololu command for channel 1 to 0\n",
      "[DEBUG] set_target: Sent Pololu command for channel 2 to 0\n",
      "[DEBUG] set_target: Sent Pololu command for channel 3 to 0\n",
      "[DEBUG] set_target: Sent Pololu command for channel 4 to 0\n",
      "[DEBUG] set_target: Sent Pololu command for channel 5 to 0\n",
      "[DEBUG] set_target: Sent Pololu command for channel 6 to 0\n",
      "[DEBUG] set_target: Sent Pololu command for channel 7 to 0\n",
      "[DEBUG] set_target: Sent Pololu command for channel 8 to 0\n",
      "[DEBUG] set_target: Sent Pololu command for channel 9 to 0\n",
      "[DEBUG] set_target: Sent Pololu command for channel 10 to 0\n",
      "[DEBUG] set_target: Sent Pololu command for channel 11 to 0\n",
      "[DEBUG] set_target: Sent Pololu command for channel 12 to 0\n",
      "[DEBUG] set_target: Sent Pololu command for channel 13 to 0\n",
      "[DEBUG] set_target: Sent Pololu command for channel 14 to 0\n",
      "[DEBUG] set_target: Sent Pololu command for channel 15 to 0\n",
      "[DEBUG] set_target: Sent Pololu command for channel 16 to 0\n",
      "All servos released (commands sent).\n",
      "All done, port closed.\n"
     ]
    }
   ],
   "source": [
    "# --- Notebook cell 1: imports & connection -----------------------------------\n",
    "from standing_pos import init_serial, set_positions, release_servos\n",
    "import time\n",
    "\n",
    "# Open the Maestro (change PORT if needed)\n",
    "ser = init_serial('/dev/ttyACM0')   # or 'COM3' on Windows\n",
    "if ser is None:\n",
    "    raise RuntimeError(\"Could not open the serial port – check the cable & port name\")\n",
    "\n",
    "# --- Notebook cell 2: move two servos at once --------------------------------\n",
    "# Send any dictionary {channel: target} – all commands go out in the same burst,\n",
    "# so the Maestro drives the servos concurrently.\n",
    "pose_start = {0: 6000, 1: 5000}          # channels 0 & 1 -> neutral-ish\n",
    "pose_flip  = {0: 7000, 1: 4000}          # both move in opposite directions\n",
    "\n",
    "set_positions(ser, pose_start, delay=1.0)  # 1-second pause before next pose\n",
    "set_positions(ser, pose_flip,  delay=1.0)\n",
    "\n",
    "# --- Notebook cell 3: a short multi-servo animation --------------------------\n",
    "sequence = [\n",
    "    {0: 6000, 1: 5000, 2: 5500},   # add a third servo\n",
    "    {0: 6500, 1: 4500, 2: 6000},\n",
    "    {0: 6000, 1: 5000, 2: 5500}\n",
    "]\n",
    "for frame in sequence:\n",
    "    set_positions(ser, frame, delay=0.8)    # ~0.8 s between frames\n",
    "\n",
    "# --- Notebook cell 4: tidy up -------------------------------------------------\n",
    "release_servos(ser)   # zeroes all 17 channels so nothing stays powered\n",
    "ser.close()\n",
    "print(\"All done, port closed.\")\n"
   ]
  },
  {
   "cell_type": "code",
   "execution_count": null,
   "id": "59f0a3d9",
   "metadata": {},
   "outputs": [],
   "source": [
    "# Standing position definition (remains the same)\n",
    "standing_position = {\n",
    "    0: 6350,  # Left Ankle Twist (LAT)\n",
    "    1: 6150,  # Right Ankle Twist (RAT)\n",
    "    2: 6250,  # Left Ankle (LA)\n",
    "    3: 4600,  # Right Ankle (RA)\n",
    "    4: 5400,  # Left Knee (LK)\n",
    "    5: 6000,  # Right Knee (RK)\n",
    "    6: 5800,  # Left Hip-Thigh (LHT)\n",
    "    7: 5400,  # Right Hip-Thigh (RHT)\n",
    "    8: 5900,  # Left Hip (LH)\n",
    "    9: 5100,  # Right Hip (RH)\n",
    "    10: 5800,  # Left Shoulder (LS)\n",
    "    11: 6100,  # Right Shoulder (RS)\n",
    "    12: 8000,  # Left Elbow (LE)\n",
    "    13: 3800,  # Right Elbow (RE)\n",
    "    14: 6000,  # Left Palm (LP)\n",
    "    15: 5000,  # Right Palm (RP)\n",
    "    16: 5200   # Head\n",
    "\n",
    "}"
   ]
  },
  {
   "cell_type": "code",
   "execution_count": 1,
   "id": "1a3bc095",
   "metadata": {},
   "outputs": [
    {
     "name": "stdout",
     "output_type": "stream",
     "text": [
      "Attempting connection to /dev/ttyACM0 (try 1/3)...\n",
      "Successfully connected to serial port /dev/ttyACM0\n"
     ]
    }
   ],
   "source": [
    "from standing_pos import init_serial, set_positions, release_servos\n",
    "\n",
    "ser = init_serial('/dev/ttyACM0')   # or 'COM3' on Windows\n",
    "if ser is None:\n",
    "    raise RuntimeError(\"Could not open the serial port – check the cable & port name\")\n"
   ]
  },
  {
   "cell_type": "code",
   "execution_count": 2,
   "id": "ca22e62d",
   "metadata": {},
   "outputs": [
    {
     "name": "stdout",
     "output_type": "stream",
     "text": [
      "[DEBUG] set_target: Sent Pololu command for channel 5 to 5000\n",
      "[DEBUG] set_target: Sent Pololu command for channel 6 to 4800\n"
     ]
    },
    {
     "data": {
      "text/plain": [
       "True"
      ]
     },
     "execution_count": 2,
     "metadata": {},
     "output_type": "execute_result"
    }
   ],
   "source": [
    "pose_start = {5: 6000, 5: 5000}          # channels 0 & 1 -> neutral-ish\n",
    "pose_flip  = {6: 5800, 6: 4800}          # both move in opposite directions\n",
    "\n",
    "set_positions(ser, pose_start, delay=1.0)  # 1-second pause before next pose\n",
    "set_positions(ser, pose_flip,  delay=1.0)"
   ]
  },
  {
   "cell_type": "code",
   "execution_count": null,
   "id": "466a45e7",
   "metadata": {},
   "outputs": [],
   "source": []
  },
  {
   "cell_type": "code",
   "execution_count": 20,
   "id": "a3598b26",
   "metadata": {},
   "outputs": [
    {
     "name": "stdout",
     "output_type": "stream",
     "text": [
      "Releasing all servos...\n",
      "[DEBUG] set_target: Sent Pololu command for channel 0 to 0\n",
      "[DEBUG] set_target: Sent Pololu command for channel 1 to 0\n",
      "[DEBUG] set_target: Sent Pololu command for channel 2 to 0\n",
      "[DEBUG] set_target: Sent Pololu command for channel 3 to 0\n",
      "[DEBUG] set_target: Sent Pololu command for channel 4 to 0\n",
      "[DEBUG] set_target: Sent Pololu command for channel 5 to 0\n",
      "[DEBUG] set_target: Sent Pololu command for channel 6 to 0\n",
      "[DEBUG] set_target: Sent Pololu command for channel 7 to 0\n",
      "[DEBUG] set_target: Sent Pololu command for channel 8 to 0\n",
      "[DEBUG] set_target: Sent Pololu command for channel 9 to 0\n",
      "[DEBUG] set_target: Sent Pololu command for channel 10 to 0\n",
      "[DEBUG] set_target: Sent Pololu command for channel 11 to 0\n",
      "[DEBUG] set_target: Sent Pololu command for channel 12 to 0\n",
      "[DEBUG] set_target: Sent Pololu command for channel 13 to 0\n",
      "[DEBUG] set_target: Sent Pololu command for channel 14 to 0\n",
      "[DEBUG] set_target: Sent Pololu command for channel 15 to 0\n",
      "[DEBUG] set_target: Sent Pololu command for channel 16 to 0\n",
      "All servos released (commands sent).\n"
     ]
    }
   ],
   "source": [
    "release_servos(ser)   # zeroes all 17 channels so nothing stays powered\n",
    "ser.close()"
   ]
  },
  {
   "cell_type": "code",
   "execution_count": null,
   "id": "307cfed0",
   "metadata": {},
   "outputs": [],
   "source": []
  },
  {
   "cell_type": "code",
   "execution_count": null,
   "id": "67af5b78",
   "metadata": {},
   "outputs": [],
   "source": []
  }
 ],
 "metadata": {
  "kernelspec": {
   "display_name": "humanoid",
   "language": "python",
   "name": "python3"
  },
  "language_info": {
   "codemirror_mode": {
    "name": "ipython",
    "version": 3
   },
   "file_extension": ".py",
   "mimetype": "text/x-python",
   "name": "python",
   "nbconvert_exporter": "python",
   "pygments_lexer": "ipython3",
   "version": "3.11.12"
  }
 },
 "nbformat": 4,
 "nbformat_minor": 5
}
